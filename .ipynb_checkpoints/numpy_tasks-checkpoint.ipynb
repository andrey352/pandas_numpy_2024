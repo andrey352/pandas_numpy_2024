{
 "cells": [
  {
   "cell_type": "markdown",
   "id": "2674c63d-610c-474f-9b8a-aac5118d77a4",
   "metadata": {},
   "source": [
    "Задание 1\r\n",
    "Создайте массив Numpy под названием a размером 5x2, то есть состоящий из 5 строк\r\n",
    "и 2 столбцов. Первый столбец должен содержать числа 1, 2, 3, 3, 1, а второй - числа 6,\r\n",
    "8, 11, 10, 7. Будем считать, что каждый столбец - это признак, а строка - наблюдение.\r\n",
    "Затем найдите среднее значение по каждому признаку, используя метод mean массива\r\n",
    "Numpy. Результат запишите в массив mean_a, в нем должно быть 2 элемента.\r"
   ]
  },
  {
   "cell_type": "code",
   "execution_count": 1,
   "id": "0deb648f-9703-4e18-bd25-0eceba9d3ed6",
   "metadata": {},
   "outputs": [],
   "source": [
    "import numpy as np"
   ]
  },
  {
   "cell_type": "code",
   "execution_count": 15,
   "id": "01e351b8-bf66-4466-a9bc-13c2b3bafaec",
   "metadata": {},
   "outputs": [],
   "source": [
    "a = np.array([[1, 6],\n",
    "              [2, 8],\n",
    "              [3, 11],\n",
    "              [3, 10],\n",
    "              [1, 7]])"
   ]
  },
  {
   "cell_type": "code",
   "execution_count": 19,
   "id": "232692dc-ec95-4ee1-83a1-479e23bf3a8b",
   "metadata": {},
   "outputs": [
    {
     "data": {
      "text/plain": [
       "array([2. , 8.4])"
      ]
     },
     "execution_count": 19,
     "metadata": {},
     "output_type": "execute_result"
    }
   ],
   "source": [
    "mean_a = a.mean(axis=0)\n",
    "mean_a"
   ]
  },
  {
   "cell_type": "markdown",
   "id": "d8eb29a8-b3e1-4a59-90b2-7e0cb397823d",
   "metadata": {},
   "source": [
    "Задание 2\r\n",
    "Вычислите массив a_centered, отняв от значений массива “а” средние значения\r\n",
    "соответствующих признаков, содержащиеся в массиве mean_a. Вычисление должно\r\n",
    "производиться в одно действие. Получившийся массив должен иметь размер 5x2.\r"
   ]
  },
  {
   "cell_type": "code",
   "execution_count": 22,
   "id": "d434d78e-f15f-435a-b2f7-54dcd9b30933",
   "metadata": {},
   "outputs": [
    {
     "data": {
      "text/plain": [
       "array([[-1. , -2.4],\n",
       "       [ 0. , -0.4],\n",
       "       [ 1. ,  2.6],\n",
       "       [ 1. ,  1.6],\n",
       "       [-1. , -1.4]])"
      ]
     },
     "execution_count": 22,
     "metadata": {},
     "output_type": "execute_result"
    }
   ],
   "source": [
    "a_centered = a - mean_a\n",
    "a_centered"
   ]
  },
  {
   "cell_type": "markdown",
   "id": "f31774ac-a87b-4ed1-896a-f9f6793f64fc",
   "metadata": {},
   "source": [
    "Задание 3\n",
    "Найдите скалярное произведение столбцов массива a_centered. В результате должна\n",
    "получиться величина _centered_spa. Затем поделите a_centered_sp на N-1, где N - число\n",
    "наблюдений.\n"
   ]
  },
  {
   "cell_type": "code",
   "execution_count": 38,
   "id": "c83e99e6-ede2-45da-9b24-5d01072a830d",
   "metadata": {},
   "outputs": [
    {
     "data": {
      "text/plain": [
       "8.0"
      ]
     },
     "execution_count": 38,
     "metadata": {},
     "output_type": "execute_result"
    }
   ],
   "source": [
    "_centered_spa = a_centered[:, 1:].flatten() @ a_centered[:, :1].flatten()\n",
    "_centered_spa"
   ]
  },
  {
   "cell_type": "code",
   "execution_count": 40,
   "id": "af6d82fa-9233-4fc3-a6fe-be2420f27f1e",
   "metadata": {},
   "outputs": [
    {
     "data": {
      "text/plain": [
       "2.0"
      ]
     },
     "execution_count": 40,
     "metadata": {},
     "output_type": "execute_result"
    }
   ],
   "source": [
    "N = 5\n",
    "_centered_spa / (N - 1)"
   ]
  },
  {
   "cell_type": "code",
   "execution_count": null,
   "id": "89a7a811-4c1c-4d07-b33b-143912894993",
   "metadata": {},
   "outputs": [],
   "source": []
  }
 ],
 "metadata": {
  "kernelspec": {
   "display_name": "Python 3 (ipykernel)",
   "language": "python",
   "name": "python3"
  },
  "language_info": {
   "codemirror_mode": {
    "name": "ipython",
    "version": 3
   },
   "file_extension": ".py",
   "mimetype": "text/x-python",
   "name": "python",
   "nbconvert_exporter": "python",
   "pygments_lexer": "ipython3",
   "version": "3.11.7"
  }
 },
 "nbformat": 4,
 "nbformat_minor": 5
}
